{
 "cells": [
  {
   "attachments": {},
   "cell_type": "markdown",
   "metadata": {},
   "source": [
    "## Komplexní příklad - 20. března 2023 (Chatbot)\n",
    "\n",
    "Vyzkoušíme si naprogramovat velice jednoduchého chatbota. V našem jednoduché případě zvládá odpovědět pouze na dvě otázky - otázku o školném (fees) a otázku o nabízených kurzech (course).\n",
    "\n",
    "### Verze 1\n",
    "\n",
    "První verze umí odpovědět pouze na otázku o školném. V seznamu `patterns_fees` máme příklady otázek, které může uživatel položit. Pokud uživatel položí jednu z otázek ze seznamu, program zobrazí řetězec uložený v proměnné `response_fees`. Jinak zobrazí obecnou odpověď `unknown_question_response`."
   ]
  },
  {
   "cell_type": "code",
   "execution_count": 1,
   "metadata": {},
   "outputs": [
    {
     "name": "stdout",
     "output_type": "stream",
     "text": [
      "The annual tuition fees for undergraduate students is $20,000. Graduate students can expect to pay $25,000 per year.\n"
     ]
    }
   ],
   "source": [
    "patterns_fees = [\n",
    "  \"information about fee\",\n",
    "  \"college fee\",\n",
    "  \"how much is the fees\",\n",
    "  \"fees\",\n",
    "]\n",
    "response_fees = \"The annual tuition fees for undergraduate students is $20,000. Graduate students can expect to pay $25,000 per year.\"\n",
    "unknown_question_response = \"I'm sorry, I don't have an answer for that at this time. Is there something else I can help you with?\"\n",
    "\n",
    "question = input(\"Please ask your question: \")\n",
    "if question in patterns_fees:\n",
    "    print(response_fees)\n",
    "else:\n",
    "    print(unknown_question_response)"
   ]
  },
  {
   "attachments": {},
   "cell_type": "markdown",
   "metadata": {},
   "source": [
    "### Verze 2\n",
    "\n",
    "Ve verzi 2 přibyla otázka o kurzech, které je možné na univerzitě studovat. Otázky přibyly do samostatného seznamu `patterns_courses` a odpovědi jsme vložili do slovníku."
   ]
  },
  {
   "cell_type": "code",
   "execution_count": null,
   "metadata": {},
   "outputs": [],
   "source": [
    "patterns_fees = [\n",
    "  \"information about fee\",\n",
    "  \"college fee\",\n",
    "  \"how much is the fees\",\n",
    "  \"fees\",\n",
    "]\n",
    "\n",
    "patterns_courses = [\n",
    "  \"list of courses\",\n",
    "  \"list of courses offered\",\n",
    "  \"courses\",\n",
    "  \"courses offered\",\n",
    "]\n",
    "\n",
    "responses = {\n",
    "    \"fees\": \"The annual tuition fees for students is $20,000 per semestr.\",\n",
    "    \"courses\": \"Our university offers Information Technology, Computer Engineering, Mechanical engineering, Chemical engineering, Civil engineering and extc Engineering.\"\n",
    "} \n",
    "unknown_question_response = \"I'm sorry, I don't have an answer for that at this time. Is there something else I can help you with?\"\n",
    "\n",
    "question = input(\"Please ask your question: \")\n",
    "if question in patterns_fees:\n",
    "    print(responses[\"fees\"])\n",
    "elif question in patterns_courses:\n",
    "    print(responses[\"courses\"])\n",
    "else:\n",
    "    print(unknown_question_response)\n"
   ]
  },
  {
   "attachments": {},
   "cell_type": "markdown",
   "metadata": {},
   "source": [
    "### Verze 3\n",
    "\n",
    "V průběhu času můžeme například sbírat otázky, kterým chatbot nerozuměl, a upravovat podle nich naše vstupní data. Abychom kvůli tomu nemuseli zasahovat do programu, můžeme si vstupní otázky vložit do souboru. Soubor obsahuje dva sloupce - `pattern` (vzor pro otázku) a `id` (podle něj dohledáme odpověď).\n",
    "\n",
    "\n",
    "| pattern                  | id      |\n",
    "|--------------------------|---------|\n",
    "| information about fee    | fees    |\n",
    "| college fee              | fees    |\n",
    "| how much is the fees     | fees    |\n",
    "| fees                     | fees    |\n",
    "| list of courses          | courses |\n",
    "| list of courses offered  | courses |\n",
    "| courses                 | courses |\n",
    "| courses offered          | courses |"
   ]
  },
  {
   "cell_type": "code",
   "execution_count": null,
   "metadata": {},
   "outputs": [],
   "source": [
    "lines = []\n",
    "\n",
    "with open('patterns.csv', encoding='utf-8') as file:\n",
    "    for line in file:\n",
    "        line = line.strip().split(\",\")\n",
    "        lines.append(line)\n",
    "\n",
    "responses = {\n",
    "    \"fees\": \"The annual tuition fees for students is $20,000 per semestr.\",\n",
    "    \"courses\": \"Our university offers Information Technology, Computer Engineering, Mechanical engineering, Chemical engineering, Civil engineering and extc Engineering.\"\n",
    "}\n",
    "\n",
    "question = input(\"Please ask your question: \")\n",
    "for row in lines:\n",
    "    if question == row[0]:\n",
    "        id = row[1]\n",
    "        print(responses[id])\n"
   ]
  },
  {
   "attachments": {},
   "cell_type": "markdown",
   "metadata": {},
   "source": [
    "### Verze 4\n",
    "\n",
    "Nyní přidáme porovnání řetězců pomocí funkce. Ve funkci můžeme například provádět drobné úpravy řetězců, které zvýší naši šanci poskytnout správnou odpověď (například odstranění zbytečných mezer, otazníku atd.)."
   ]
  },
  {
   "cell_type": "code",
   "execution_count": null,
   "metadata": {},
   "outputs": [],
   "source": [
    "def compare_strings(user_input, pattern):\n",
    "    user_input = user_input.lower()\n",
    "    user_input = user_input.trim()\n",
    "    user_input = user_input.replace(\"?\", \"\")\n",
    "    if user_input == pattern:\n",
    "        return True\n",
    "    else:\n",
    "        return False\n",
    "\n",
    "lines = []\n",
    "\n",
    "with open('patterns.csv', encoding='utf-8') as file:\n",
    "    for line in file:\n",
    "        line = line.strip().split(\",\")\n",
    "        lines.append(line)\n",
    "\n",
    "responses = {\n",
    "    \"fees\": \"The annual tuition fees for students is $20,000 per semestr.\",\n",
    "    \"courses\": \"Our university offers Information Technology, Computer Engineering, Mechanical engineering, Chemical engineering, Civil engineering and extc Engineering.\"\n",
    "}\n",
    "\n",
    "question = input(\"Please ask your question: \")\n",
    "for row in lines:\n",
    "    if compare_strings(question, row[0]):\n",
    "        id = row[1]\n",
    "        print(responses[id])\n"
   ]
  }
 ],
 "metadata": {
  "kernelspec": {
   "display_name": ".venv",
   "language": "python",
   "name": "python3"
  },
  "language_info": {
   "codemirror_mode": {
    "name": "ipython",
    "version": 3
   },
   "file_extension": ".py",
   "mimetype": "text/x-python",
   "name": "python",
   "nbconvert_exporter": "python",
   "pygments_lexer": "ipython3",
   "version": "3.11.2"
  },
  "orig_nbformat": 4
 },
 "nbformat": 4,
 "nbformat_minor": 2
}
