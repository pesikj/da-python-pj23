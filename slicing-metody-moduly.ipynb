{
 "cells": [
  {
   "attachments": {},
   "cell_type": "markdown",
   "metadata": {},
   "source": [
    "# Řešení příkladů z lekce slicing, metody, moduly\n",
    "## Slicing seznamů a řetězců\n",
    "Zadání příkladů jsou [zde](https://kodim.cz/kurzy/uvod-do-progr-2/uvod-do-programovani-2/slicing-metody-moduly/slicing).\n",
    "### Pohyby na účtu"
   ]
  },
  {
   "cell_type": "code",
   "execution_count": 1,
   "metadata": {},
   "outputs": [
    {
     "name": "stdout",
     "output_type": "stream",
     "text": [
      "-800\n",
      "[-800, 540, 721, -613, -222]\n",
      "7\n",
      "1200\n",
      "-800\n",
      "576\n"
     ]
    }
   ],
   "source": [
    "pohyby = [1200, -250, -800, 540, 721, -613, -222]\n",
    "# Vypište v pořadí třetí pohyb z uvedeného seznamu.\n",
    "print(pohyby[2])\n",
    "# Vypište všechny pohyby kromě prvních dvou.\n",
    "print(pohyby[2:])\n",
    "# Vypište kolik je všech pohybů dohromady.\n",
    "print(len(pohyby))\n",
    "# Pomocí volání vhodných funkcí vypište nejvyšší a nejnižší pohyb.\n",
    "print(max(pohyby))\n",
    "print(min(pohyby))\n",
    "# Spočítejte celkový přírůstek na účtu za dané období. Pozor, že přírůstek může vyjít i záporný.\n",
    "print(sum(pohyby))"
   ]
  },
  {
   "attachments": {},
   "cell_type": "markdown",
   "metadata": {},
   "source": [
    "### Průměr"
   ]
  },
  {
   "cell_type": "code",
   "execution_count": 2,
   "metadata": {},
   "outputs": [
    {
     "name": "stdout",
     "output_type": "stream",
     "text": [
      "3.0\n",
      "3.5\n"
     ]
    }
   ],
   "source": [
    "seznam_1 = [1, 2, 3, 4, 5]\n",
    "seznam_2 = [1, 2, 3, 4, 5, 6]\n",
    "print(sum(seznam_1)/len(seznam_1))\n",
    "print(sum(seznam_2)/len(seznam_2))"
   ]
  },
  {
   "attachments": {},
   "cell_type": "markdown",
   "metadata": {},
   "source": [
    "### Rozpětí"
   ]
  },
  {
   "cell_type": "code",
   "execution_count": 3,
   "metadata": {},
   "outputs": [
    {
     "name": "stdout",
     "output_type": "stream",
     "text": [
      "4\n"
     ]
    }
   ],
   "source": [
    "seznam_1 = [1, 2, 3, 4, 5]\n",
    "print(max(seznam_1) - min(seznam_1))"
   ]
  },
  {
   "attachments": {},
   "cell_type": "markdown",
   "metadata": {},
   "source": [
    "## Metody\n",
    "Zadání příkladů jsou [zde](https://kodim.cz/kurzy/uvod-do-progr-2/uvod-do-programovani-2/slicing-metody-moduly/metody).\n",
    "### Převod písmen"
   ]
  },
  {
   "cell_type": "code",
   "execution_count": 2,
   "metadata": {},
   "outputs": [
    {
     "name": "stdout",
     "output_type": "stream",
     "text": [
      "jirka\n",
      "JIRKA\n"
     ]
    }
   ],
   "source": [
    "jmeno = \"Jirka\"\n",
    "mala_pismena = jmeno.lower()\n",
    "print(mala_pismena)\n",
    "velka_pismena = mala_pismena.upper()\n",
    "print(velka_pismena)"
   ]
  },
  {
   "attachments": {},
   "cell_type": "markdown",
   "metadata": {},
   "source": [
    "### Čísla jako text"
   ]
  },
  {
   "cell_type": "code",
   "execution_count": 4,
   "metadata": {},
   "outputs": [
    {
     "name": "stdout",
     "output_type": "stream",
     "text": [
      "['12', '1', '11', '-11']\n"
     ]
    }
   ],
   "source": [
    "hodnoty = ['12', '1', '7', '-11']\n",
    "# Uložte si hodnotu na třetí pozici v seznamu do nějaké proměnné.\n",
    "vybrana_hodnota = hodnoty[2]\n",
    "# Převeďte tuto hodnotu na číslo a přičtěte k němu 4. Výsledek uložte do proměnné vysledek.\n",
    "vysledek = int(vybrana_hodnota) + 4\n",
    "# Převeďte hodnotu v proměnné vysledek zpět na řetězec a uložte ji na třetí pozici v seznamu hodnoty.\n",
    "vysledek = str(vysledek)\n",
    "hodnoty[2] = vysledek\n",
    "print(hodnoty)"
   ]
  },
  {
   "attachments": {},
   "cell_type": "markdown",
   "metadata": {},
   "source": [
    "### Čísla v textu"
   ]
  },
  {
   "cell_type": "code",
   "execution_count": 6,
   "metadata": {},
   "outputs": [
    {
     "name": "stdout",
     "output_type": "stream",
     "text": [
      "12.1 1.68 7.45 -11.26\n"
     ]
    }
   ],
   "source": [
    "hodnoty = '12.1 1.68 7.45 -11.51'\n",
    "hodnoty_seznam = hodnoty.split(\" \")\n",
    "vybrana_hodnota = hodnoty_seznam[-1]\n",
    "vysledek = float(vybrana_hodnota) + 0.25\n",
    "vysledek = str(vysledek)\n",
    "hodnoty_seznam[-1] = vysledek\n",
    "hodnoty = \" \".join(hodnoty_seznam)\n",
    "print(hodnoty)"
   ]
  },
  {
   "attachments": {},
   "cell_type": "markdown",
   "metadata": {},
   "source": [
    "## Moduly\n",
    "### Zaokrouhlování"
   ]
  },
  {
   "cell_type": "code",
   "execution_count": 8,
   "metadata": {},
   "outputs": [
    {
     "name": "stdout",
     "output_type": "stream",
     "text": [
      "Zaokrouhlené nahoru:  4\n",
      "Zaokrouhlené dolů:  3\n",
      "Zaokrouhlené standardně:  3\n"
     ]
    }
   ],
   "source": [
    "import math\n",
    "cislo = input(\"Zadej desetinné číslo: \")\n",
    "# Tip navíc - uživatel nemusí vědět, že má použít desetinnou tečku místo čárky. My ale můžeme použít funkci replace a případnou čárku nahradit tečkou\n",
    "cislo = cislo.replace(\",\", \".\")\n",
    "cislo = float(cislo)\n",
    "print(\"Zaokrouhlené nahoru: \", math.ceil(cislo))\n",
    "print(\"Zaokrouhlené dolů: \", math.floor(cislo))\n",
    "print(\"Zaokrouhlené standardně: \", round(cislo))"
   ]
  }
 ],
 "metadata": {
  "kernelspec": {
   "display_name": ".venv",
   "language": "python",
   "name": "python3"
  },
  "language_info": {
   "codemirror_mode": {
    "name": "ipython",
    "version": 3
   },
   "file_extension": ".py",
   "mimetype": "text/x-python",
   "name": "python",
   "nbconvert_exporter": "python",
   "pygments_lexer": "ipython3",
   "version": "3.11.2"
  },
  "orig_nbformat": 4
 },
 "nbformat": 4,
 "nbformat_minor": 2
}
