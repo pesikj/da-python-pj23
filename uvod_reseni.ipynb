{
 "cells": [
  {
   "attachments": {},
   "cell_type": "markdown",
   "metadata": {},
   "source": [
    "Řešení příkladů z kapitoly [co všechno už umíme](https://kodim.cz/kurzy/uvod-do-progr-2/uvod-do-programovani-2/uvod/priklady)."
   ]
  },
  {
   "attachments": {},
   "cell_type": "markdown",
   "metadata": {},
   "source": [
    "### Přijímačky"
   ]
  },
  {
   "cell_type": "code",
   "execution_count": 2,
   "metadata": {},
   "outputs": [
    {
     "name": "stdout",
     "output_type": "stream",
     "text": [
      "1.25\n",
      "1.25\n"
     ]
    }
   ],
   "source": [
    "import statistics\n",
    "\n",
    "school_report = [\n",
    "    [\"Český jazyk\", 1],\n",
    "    [\"Anglický jazyk\", 1],\n",
    "    [\"Matematika\", 1],\n",
    "    [\"Přírodopis\", 2],\n",
    "    [\"Dějepis\", 1],\n",
    "    [\"Fyzika\", 2],\n",
    "    [\"Hudební výchova\", 4],\n",
    "    [\"Výtvarná výchova\", 2],\n",
    "    [\"Tělesná výchova\", 3],\n",
    "    [\"Chemie\", 4],\n",
    "]\n",
    "\n",
    "marks = []\n",
    "for row in school_report:\n",
    "    if row[0] in [\"Český jazyk\", \"Anglický jazyk\", \"Matematika\", \"Fyzika\"]:\n",
    "        marks.append(row[1])\n",
    "print(statistics.mean(marks))\n",
    "\n",
    "# Alternativní řešení bez modulu statistics\n",
    "sum_of_marks = 0\n",
    "count_of_marks = 0\n",
    "for row in school_report:\n",
    "    if row[0] in [\"Český jazyk\", \"Anglický jazyk\", \"Matematika\", \"Fyzika\"]:\n",
    "        sum_of_marks = sum_of_marks + row[1]\n",
    "        count_of_marks = count_of_marks + 1\n",
    "print(sum_of_marks/count_of_marks)"
   ]
  },
  {
   "attachments": {},
   "cell_type": "markdown",
   "metadata": {},
   "source": [
    "### Rodná čísla"
   ]
  },
  {
   "cell_type": "code",
   "execution_count": null,
   "metadata": {},
   "outputs": [],
   "source": [
    "rodna_cisla = [\n",
    "    \"845128/6219\",\n",
    "    \"806002/5021\",\n",
    "    \"900116/8291\",\n",
    "    \"790501/7894\",\n",
    "    \"850706/9259\",\n",
    "    \"891222/1824\",\n",
    "    \"870327/9582\",\n",
    "    \"810602/6883\",\n",
    "    \"850512/5070\",\n",
    "    \"790531/7081\"\n",
    "]\n",
    "\"\"\"\n",
    "Na začátku musím vytvořit proměnou zeny, které nastavím hodnotu 0.\n",
    "Podobnou úlohu bychom mohli řešit pomocí tužky a papíru - procházeli bychom\n",
    "záznamy a dělali si čárku pro každou ženu. Proměnná zeny představuje\n",
    "připravený prázdný papír. Zatím jsme nezačali hledat, takže na papíře\n",
    "nemáže žádnou čárku.\n",
    "\"\"\"\n",
    "zeny = 0\n",
    "for aktualni in rodna_cisla:\n",
    "    # Uložím si číslo měsíce. Musím ho převést na int, aby šlo porovnat\n",
    "    mesic = int(aktualni[2] + aktualni[3])\n",
    "    # Pokud je měsíce více než 50, navýším proměnnou zeny o 1\n",
    "    # Tj. udělám si čárku na paprí\n",
    "    if mesic > 50:\n",
    "        zeny = zeny + 1\n",
    "\n",
    "# Alternativní řešení - můžeme vzít první číslici a porovnat ji s 5\n",
    "zeny = 0\n",
    "for aktualni in rodna_cisla:\n",
    "    # Porovnání dvou řetězců je možné, porovnání je podobné jako \n",
    "    # porovnání písmen a číslic v abecedě\n",
    "    mesic_prvni_cislice = aktualni[2]\n",
    "    if mesic_prvni_cislice >= \"5\":\n",
    "        zeny = zeny + 1\n",
    "print(zeny)\n",
    "muzi = len(rodna_cisla) - zeny\n",
    "print(muzi)"
   ]
  },
  {
   "attachments": {},
   "cell_type": "markdown",
   "metadata": {},
   "source": [
    "### Fahrnheit vs. Celsius"
   ]
  },
  {
   "cell_type": "code",
   "execution_count": 5,
   "metadata": {},
   "outputs": [
    {
     "name": "stdout",
     "output_type": "stream",
     "text": [
      "Teplota je 100.0 stupňů Celsia\n"
     ]
    }
   ],
   "source": [
    "farenheit = float(input(\"Zadej teplotu ve stupních Farenheita\"))\n",
    "celsius = 5 * (farenheit - 32) / 9\n",
    "print(f\"Teplota je {celsius} stupňů Celsia\")"
   ]
  }
 ],
 "metadata": {
  "kernelspec": {
   "display_name": "Python 3",
   "language": "python",
   "name": "python3"
  },
  "language_info": {
   "codemirror_mode": {
    "name": "ipython",
    "version": 3
   },
   "file_extension": ".py",
   "mimetype": "text/x-python",
   "name": "python",
   "nbconvert_exporter": "python",
   "pygments_lexer": "ipython3",
   "version": "3.11.2"
  },
  "orig_nbformat": 4
 },
 "nbformat": 4,
 "nbformat_minor": 2
}
