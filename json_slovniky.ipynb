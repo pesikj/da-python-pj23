{
 "cells": [
  {
   "cell_type": "markdown",
   "metadata": {
    "collapsed": false
   },
   "source": [
    "# REST API a JSON\n",
    "\n",
    "Při práci s REST API využijeme následující postup:\n",
    "\n",
    "1. Najdeme API, ze kterého chceme data získat. U API potřebujeme znát jeho adresu.\n",
    "2. Podíváme se, jestli je API volně přístupné či zda vyžaduje registraci. Registrace může být i zdarma, jejím účelem je snaha zabránit přetížení služby velkým množstvím dotazů (existují samozřejmě i placená API).\n",
    "3. Podíváme se na to, jaká data API nabízí (a v jakém formátu) a pokusíme se v nich zorientovat.\n",
    "4. Zpracujeme data pomocí Pythonu.\n",
    "\n",
    "Využijeme data z webu [DataUSA.io](https://datausa.io/), konkrétně data o pozici [vývojář(ka) software](https://datausa.io/profile/soc/software-developers). Data bychom si mohli stáhnout ručně, ale to vyžaduje lidský zásah. API nám umožní automatickou aktualizaci dat, takže se do reportu budou automaticky stahovat nová data.\n",
    "\n",
    "Web [DataUSA.io](https://datausa.io/) registraci nevažaduje, můžeme tedy začít API používat. K prohlídnutí formátu dat můžeme použít i webový prohlížeč. Pro Google Chrome je k dispozici doplněk [JSON Formatter\n",
    "](https://chrome.google.com/webstore/detail/json-formatter/bcjindcccaagfpapjjmafapmmgkkhgoa?hl=en), který data zformátuje do přehlednější podoby. Prohlížeč Mozilla Firefox umí data hezky zformátovat automaticky. Další možností je použití online nástrojů jako [JSON Formatter](https://jsonformatter.curiousconcept.com/), do kterého překopírujeme textový výstup. (On-line nástroje bychom neměli používat pro citlivá data, např. data o zákaznících firmy).\n",
    "\n",
    "Adresa API je: [https://wad.datausa.io/api/data?PUMS%20Occupation=151252&drilldowns=Gender&measure=Total%20Population,Total%20Population%20MOE%20Appx,Record%20Count&Record%20Count%3E=5](https://wad.datausa.io/api/data?PUMS%20Occupation=151252&drilldowns=Gender&measure=Total%20Population,Total%20Population%20MOE%20Appx,Record%20Count&Record%20Count%3E=5).\n"
   ]
  },
  {
   "cell_type": "code",
   "execution_count": 2,
   "metadata": {
    "collapsed": false,
    "pycharm": {
     "is_executing": true
    }
   },
   "outputs": [],
   "source": [
    "import requests\n",
    "import json\n",
    "\n",
    "response = requests.get(\"https://wad.datausa.io/api/data?PUMS%20Occupation=151252&drilldowns=Gender&measure=Total%20Population,Total%20Population%20MOE%20Appx,Record%20Count&Record%20Count%3E=5\")\n",
    "# Převedeme data na slovník\n",
    "sw_gender_data = json.loads(response.text)"
   ]
  },
  {
   "attachments": {},
   "cell_type": "markdown",
   "metadata": {},
   "source": [
    "Data si před zpracováním můžeme uložit. To je praktické hlavně u větších objemů dat a pomalejších API. Většinou je rychlejší načíst data ze souboru na disku než z internetu. V některých případech může být navíc počet přístupů na API omezen."
   ]
  },
  {
   "cell_type": "code",
   "execution_count": 4,
   "metadata": {},
   "outputs": [],
   "source": [
    "with open(\"data_zapis.json\", \"w\", encoding=\"utf-8\") as soubor:\n",
    "    json.dump(sw_gender_data, soubor, indent=4)"
   ]
  },
  {
   "attachments": {},
   "cell_type": "markdown",
   "metadata": {},
   "source": [
    "Při použití modulu `json` je *úplně jedno*, jestli data stahujeme z internetu nebo nahráváme ze souboru. Data se vždy převedou do stejné struktury (slovníku) a pracujeme se s nimi stejně. Stejně bychom se slovníkem pracovali i v případě, že bychom si jej zapsali do programu sami.\n",
    "\n",
    "Soubor je zde: [data_zapis.json](data_zapis.json)"
   ]
  },
  {
   "cell_type": "code",
   "execution_count": 3,
   "metadata": {
    "collapsed": false
   },
   "outputs": [],
   "source": [
    "with open('data_zapis.json', encoding='utf-8') as soubor:\n",
    "    sw_gender_data = json.load(soubor)"
   ]
  },
  {
   "attachments": {},
   "cell_type": "markdown",
   "metadata": {},
   "source": [
    "Strukturu si můžeme [zobrazit graficky](assets/JSON.drawio.svg).\n",
    "\n",
    "Zkusme si nyní načíst některé hodnoty."
   ]
  },
  {
   "cell_type": "code",
   "execution_count": 5,
   "metadata": {},
   "outputs": [
    {
     "name": "stdout",
     "output_type": "stream",
     "text": [
      "{'ID Gender': 1, 'Gender': 'Male', 'ID Year': 2020, 'Year': '2020', 'Total Population': 1268944, 'Total Population MOE Appx': 27602.637285017023, 'Record Count': 59010, 'PUMS Occupation': 'Software developers', 'ID PUMS Occupation': '151252', 'Slug PUMS Occupation': 'software-developers'}\n",
      "2020\n"
     ]
    }
   ],
   "source": [
    "# Nultý slovník s daty\n",
    "print(sw_gender_data[\"data\"][0])"
   ]
  },
  {
   "cell_type": "code",
   "execution_count": 6,
   "metadata": {},
   "outputs": [
    {
     "name": "stdout",
     "output_type": "stream",
     "text": [
      "2020\n"
     ]
    }
   ],
   "source": [
    "# Kterého roku se týká nultý slovník?\n",
    "print(sw_gender_data[\"data\"][0][\"Year\"])"
   ]
  },
  {
   "attachments": {},
   "cell_type": "markdown",
   "metadata": {},
   "source": [
    "Dále můžeme zjistit například:\n",
    "- Kolik lidí (klíč `Total Population`) máme v posledním záznamu?\n",
    "- Kterého pohlaví se poslední záznam týká?\n",
    "- Je taky dobré zkontrolovat, zda se nám tam nevloudilo nějaké jiné povolání. Jaké povolání (`PUMS Occupation`) je u předposledního záznamu?"
   ]
  },
  {
   "attachments": {},
   "cell_type": "markdown",
   "metadata": {},
   "source": [
    "Můžeme si vyzkoušet i načtení metadat. Jaký je zdroj informací, které máme?"
   ]
  },
  {
   "attachments": {},
   "cell_type": "markdown",
   "metadata": {},
   "source": [
    "Dále si zkusme data uložit v nějakém přehlednějším formátu, abychom z nich snaději vytvořili vizualizace (např. v Tableau nebo Power BI). Výstup by měl vypadat jako tabulka níže. Využijeme formát CSV, tj. jednotlivé hodnoty oddělíme čárkou.\n",
    "\n",
    "|Gender|Year|People |\n",
    "|------|----|-------|\n",
    "|Male  |2020|1268944|\n",
    "|Female|2020|295706 |\n",
    "|Male  |2019|1145155|\n",
    "|Female|2019|267806 |\n",
    "|Male  |2018|1029080|\n",
    "|Female|2018|238581 |"
   ]
  },
  {
   "cell_type": "code",
   "execution_count": 9,
   "metadata": {},
   "outputs": [],
   "source": [
    "data_zapis = []\n",
    "for item in sw_gender_data[\"data\"]:\n",
    "    radek_zapis = [item[\"Gender\"], item[\"Year\"], str(item[\"Total Population\"])]\n",
    "    data_zapis.append(radek_zapis)\n",
    "\n",
    "with open(\"data_zapis.csv\", \"w\", encoding=\"utf-8\") as soubor:\n",
    "    zahlavi = \"Gender,Year,People\"\n",
    "    print(zahlavi, file=soubor)\n",
    "    for radek_zapis in data_zapis:\n",
    "        retezec = \",\".join(radek_zapis)\n",
    "        print(retezec, file=soubor)"
   ]
  },
  {
   "attachments": {},
   "cell_type": "markdown",
   "metadata": {},
   "source": [
    "Pojďme si zkusit zapsat data ve formátu JSON. Budeme chtít zapsat data do dvourozměrného slovníku, kde jako klíče využijeme roky a jako klíče vnořených slovníků budou pohlaví.\n",
    "\n",
    "```json\n",
    "{\n",
    "    \"2020\": {\n",
    "        \"Male\": 1268944,\n",
    "        \"Female\": 295706\n",
    "    },\n",
    "    \"2019\": {\n",
    "        \"Male\": 1145155,\n",
    "        \"Female\": 267806\n",
    "    },\n",
    "    \"2018\": {\n",
    "        \"Male\": 1029080,\n",
    "        \"Female\": 238581\n",
    "    }\n",
    "}\n",
    "```"
   ]
  },
  {
   "cell_type": "code",
   "execution_count": 11,
   "metadata": {},
   "outputs": [],
   "source": [
    "data_zapis = {}\n",
    "for item in sw_gender_data[\"data\"]:\n",
    "    year = item[\"Year\"]\n",
    "    gender = item[\"Gender\"]\n",
    "    if year not in data_zapis:\n",
    "        data_zapis[year] = {}\n",
    "    data_zapis[year][gender] = item[\"Total Population\"]\n",
    "\n",
    "with open('data_zapis_2.json', \"w\", encoding='utf-8') as soubor:\n",
    "    json.dump(data_zapis, soubor, indent=4)"
   ]
  },
  {
   "attachments": {},
   "cell_type": "markdown",
   "metadata": {},
   "source": [
    "Dále si můžeme vyzkoušet tabulku, ve které bude vývoj poměru žen a mužů v jednotlivých letech. Pro tvorbu tabulky můžeme využít data ve slovníku `data_zapis`.\n",
    "\n",
    "|Year|Female percentage  |\n",
    "|----|-------------------|\n",
    "|2020|0.18899178730067429|\n",
    "|2019|0.18953530918404685|\n",
    "|2018|0.18820567959415016|"
   ]
  },
  {
   "cell_type": "code",
   "execution_count": null,
   "metadata": {},
   "outputs": [],
   "source": [
    "female_percentage_list = []\n",
    "for key, value in data_zapis.items():\n",
    "    row_percentage = str(value[\"Female\"] / (value[\"Male\"] + value[\"Female\"]))\n",
    "    row = [key, row_percentage]\n",
    "    female_percentage_list.append(row)\n",
    "\n",
    "\n",
    "with open(\"data_zapis_2.csv\", \"w\", encoding=\"utf-8\") as soubor:\n",
    "    zahlavi = \"Year,Female percentage\"\n",
    "    print(zahlavi, file=soubor)\n",
    "    for radek_zapis in female_percentage_list:\n",
    "        retezec = \",\".join(radek_zapis)\n",
    "        print(retezec, file=soubor)\n"
   ]
  }
 ],
 "metadata": {
  "kernelspec": {
   "display_name": "Python 3",
   "language": "python",
   "name": "python3"
  },
  "language_info": {
   "codemirror_mode": {
    "name": "ipython",
    "version": 3
   },
   "file_extension": ".py",
   "mimetype": "text/x-python",
   "name": "python",
   "nbconvert_exporter": "python",
   "pygments_lexer": "ipython3",
   "version": "3.11.2"
  }
 },
 "nbformat": 4,
 "nbformat_minor": 0
}
